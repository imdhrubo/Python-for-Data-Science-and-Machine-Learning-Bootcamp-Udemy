{
 "cells": [
  {
   "cell_type": "code",
   "execution_count": 1,
   "id": "54e228f5",
   "metadata": {},
   "outputs": [],
   "source": [
    "import pandas as pd\n",
    "import numpy as np"
   ]
  },
  {
   "cell_type": "code",
   "execution_count": 2,
   "id": "1abf75f3",
   "metadata": {},
   "outputs": [],
   "source": [
    "df = pd.read_csv('../DATA/cancer_classification.csv')"
   ]
  },
  {
   "cell_type": "code",
   "execution_count": 3,
   "id": "4728b735",
   "metadata": {},
   "outputs": [],
   "source": [
    "X = df.drop('benign_0__mal_1',axis=1).values\n",
    "y = df['benign_0__mal_1'].values"
   ]
  },
  {
   "cell_type": "code",
   "execution_count": 4,
   "id": "d57eb23a",
   "metadata": {},
   "outputs": [],
   "source": [
    "from sklearn.model_selection import train_test_split"
   ]
  },
  {
   "cell_type": "code",
   "execution_count": 5,
   "id": "2ab0d216",
   "metadata": {},
   "outputs": [],
   "source": [
    "X_train, X_test, y_train, y_test = train_test_split(X,y,test_size=0.25,random_state=101)"
   ]
  },
  {
   "cell_type": "code",
   "execution_count": 6,
   "id": "b40e6cc2",
   "metadata": {},
   "outputs": [],
   "source": [
    "from sklearn.preprocessing import MinMaxScaler"
   ]
  },
  {
   "cell_type": "code",
   "execution_count": 7,
   "id": "79fefca9",
   "metadata": {},
   "outputs": [],
   "source": [
    "scaler = MinMaxScaler()"
   ]
  },
  {
   "cell_type": "code",
   "execution_count": 8,
   "id": "21bee3b2",
   "metadata": {},
   "outputs": [
    {
     "data": {
      "text/plain": [
       "MinMaxScaler()"
      ]
     },
     "execution_count": 8,
     "metadata": {},
     "output_type": "execute_result"
    }
   ],
   "source": [
    "scaler.fit(X_train)"
   ]
  },
  {
   "cell_type": "code",
   "execution_count": 9,
   "id": "4613e9ef",
   "metadata": {},
   "outputs": [],
   "source": [
    "X_train = scaler.transform(X_train)\n",
    "X_test = scaler.transform(X_test)"
   ]
  },
  {
   "cell_type": "code",
   "execution_count": 10,
   "id": "27fe71be",
   "metadata": {},
   "outputs": [],
   "source": [
    "import tensorflow as tf\n",
    "from tensorflow.keras.models import Sequential\n",
    "from tensorflow.keras.layers import Dense, Activation,Dropout"
   ]
  },
  {
   "cell_type": "code",
   "execution_count": 11,
   "id": "ba9d6df1",
   "metadata": {},
   "outputs": [],
   "source": [
    "from tensorflow.keras.callbacks import EarlyStopping,TensorBoard"
   ]
  },
  {
   "cell_type": "code",
   "execution_count": 12,
   "id": "77583245",
   "metadata": {},
   "outputs": [],
   "source": [
    "early_stop = EarlyStopping(monitor='val_loss', mode='min', verbose=1, patience=25)"
   ]
  },
  {
   "cell_type": "code",
   "execution_count": 13,
   "id": "5ae9a45e",
   "metadata": {},
   "outputs": [
    {
     "data": {
      "text/plain": [
       "'C:\\\\Users\\\\user\\\\Downloads\\\\Refactored_Py_DS_ML_Bootcamp-master\\\\22-Deep Learning\\\\TensorFlow_FILES\\\\TensorFlow_FILES\\\\ANNs'"
      ]
     },
     "execution_count": 13,
     "metadata": {},
     "output_type": "execute_result"
    }
   ],
   "source": [
    "pwd"
   ]
  },
  {
   "cell_type": "code",
   "execution_count": 14,
   "id": "9329a27f",
   "metadata": {},
   "outputs": [],
   "source": [
    "from datetime import datetime"
   ]
  },
  {
   "cell_type": "code",
   "execution_count": 15,
   "id": "0d6600fa",
   "metadata": {},
   "outputs": [
    {
     "data": {
      "text/plain": [
       "'2022-06-24--1611'"
      ]
     },
     "execution_count": 15,
     "metadata": {},
     "output_type": "execute_result"
    }
   ],
   "source": [
    "datetime.now().strftime(\"%Y-%m-%d--%H%M\")"
   ]
  },
  {
   "cell_type": "code",
   "execution_count": 16,
   "id": "c78b42f4",
   "metadata": {},
   "outputs": [],
   "source": [
    "# WINDOWS: Use \"logs\\\\fit\"\n",
    "# MACOS/LINUX: Use \"logs\\fit\"\n",
    "\n",
    "log_directory = 'logs\\\\fit'\n",
    "\n",
    "# OPTIONAL: ADD A TIMESTAMP FOR UNIQUE FOLDER\n",
    "# timestamp = datetime.now().strftime(\"%Y-%m-%d--%H%M\")\n",
    "# log_directory = log_directory + '\\\\' + timestamp\n",
    "\n",
    "\n",
    "board = TensorBoard(log_dir=log_directory,histogram_freq=1,\n",
    "    write_graph=True,\n",
    "    write_images=True,\n",
    "    update_freq='epoch',\n",
    "    profile_batch=2,\n",
    "    embeddings_freq=1)"
   ]
  },
  {
   "cell_type": "code",
   "execution_count": 17,
   "id": "f12ab1ca",
   "metadata": {},
   "outputs": [],
   "source": [
    "model = Sequential()\n",
    "model.add(Dense(units=30,activation='relu'))\n",
    "model.add(Dropout(0.5))\n",
    "model.add(Dense(units=15,activation='relu'))\n",
    "model.add(Dropout(0.5))\n",
    "model.add(Dense(units=1,activation='sigmoid'))\n",
    "model.compile(loss='binary_crossentropy', optimizer='adam')"
   ]
  },
  {
   "cell_type": "code",
   "execution_count": 18,
   "id": "c31eff41",
   "metadata": {},
   "outputs": [
    {
     "name": "stdout",
     "output_type": "stream",
     "text": [
      "Epoch 1/600\n",
      "14/14 [==============================] - 1s 21ms/step - loss: 0.7214 - val_loss: 0.6778\n",
      "Epoch 2/600\n",
      "14/14 [==============================] - 0s 7ms/step - loss: 0.6848 - val_loss: 0.6567\n",
      "Epoch 3/600\n",
      "14/14 [==============================] - 0s 7ms/step - loss: 0.6730 - val_loss: 0.6399\n",
      "Epoch 4/600\n",
      "14/14 [==============================] - 0s 7ms/step - loss: 0.6483 - val_loss: 0.6243\n",
      "Epoch 5/600\n",
      "14/14 [==============================] - 0s 7ms/step - loss: 0.6326 - val_loss: 0.6066\n",
      "Epoch 6/600\n",
      "14/14 [==============================] - 0s 6ms/step - loss: 0.6284 - val_loss: 0.5907\n",
      "Epoch 7/600\n",
      "14/14 [==============================] - 0s 7ms/step - loss: 0.6117 - val_loss: 0.5733\n",
      "Epoch 8/600\n",
      "14/14 [==============================] - 0s 6ms/step - loss: 0.5910 - val_loss: 0.5506\n",
      "Epoch 9/600\n",
      "14/14 [==============================] - 0s 7ms/step - loss: 0.5680 - val_loss: 0.5252\n",
      "Epoch 10/600\n",
      "14/14 [==============================] - 0s 7ms/step - loss: 0.5608 - val_loss: 0.5005\n",
      "Epoch 11/600\n",
      "14/14 [==============================] - 0s 6ms/step - loss: 0.5460 - val_loss: 0.4766\n",
      "Epoch 12/600\n",
      "14/14 [==============================] - 0s 6ms/step - loss: 0.5124 - val_loss: 0.4455\n",
      "Epoch 13/600\n",
      "14/14 [==============================] - 0s 7ms/step - loss: 0.4872 - val_loss: 0.4108\n",
      "Epoch 14/600\n",
      "14/14 [==============================] - 0s 7ms/step - loss: 0.4673 - val_loss: 0.3794\n",
      "Epoch 15/600\n",
      "14/14 [==============================] - 0s 7ms/step - loss: 0.4360 - val_loss: 0.3488\n",
      "Epoch 16/600\n",
      "14/14 [==============================] - 0s 7ms/step - loss: 0.4290 - val_loss: 0.3273\n",
      "Epoch 17/600\n",
      "14/14 [==============================] - 0s 7ms/step - loss: 0.4144 - val_loss: 0.3086\n",
      "Epoch 18/600\n",
      "14/14 [==============================] - 0s 7ms/step - loss: 0.3629 - val_loss: 0.2840\n",
      "Epoch 19/600\n",
      "14/14 [==============================] - 0s 7ms/step - loss: 0.3573 - val_loss: 0.2587\n",
      "Epoch 20/600\n",
      "14/14 [==============================] - 0s 7ms/step - loss: 0.3200 - val_loss: 0.2393\n",
      "Epoch 21/600\n",
      "14/14 [==============================] - 0s 7ms/step - loss: 0.3279 - val_loss: 0.2255\n",
      "Epoch 22/600\n",
      "14/14 [==============================] - 0s 7ms/step - loss: 0.3204 - val_loss: 0.2140\n",
      "Epoch 23/600\n",
      "14/14 [==============================] - 0s 7ms/step - loss: 0.3180 - val_loss: 0.2075\n",
      "Epoch 24/600\n",
      "14/14 [==============================] - 0s 6ms/step - loss: 0.2883 - val_loss: 0.1977\n",
      "Epoch 25/600\n",
      "14/14 [==============================] - 0s 7ms/step - loss: 0.2846 - val_loss: 0.1861\n",
      "Epoch 26/600\n",
      "14/14 [==============================] - 0s 7ms/step - loss: 0.2893 - val_loss: 0.1814\n",
      "Epoch 27/600\n",
      "14/14 [==============================] - 0s 7ms/step - loss: 0.2797 - val_loss: 0.1699\n",
      "Epoch 28/600\n",
      "14/14 [==============================] - 0s 6ms/step - loss: 0.2628 - val_loss: 0.1663\n",
      "Epoch 29/600\n",
      "14/14 [==============================] - 0s 7ms/step - loss: 0.2506 - val_loss: 0.1576\n",
      "Epoch 30/600\n",
      "14/14 [==============================] - 0s 7ms/step - loss: 0.2566 - val_loss: 0.1541\n",
      "Epoch 31/600\n",
      "14/14 [==============================] - 0s 8ms/step - loss: 0.2831 - val_loss: 0.1502\n",
      "Epoch 32/600\n",
      "14/14 [==============================] - 0s 6ms/step - loss: 0.2495 - val_loss: 0.1504\n",
      "Epoch 33/600\n",
      "14/14 [==============================] - 0s 6ms/step - loss: 0.2550 - val_loss: 0.1460\n",
      "Epoch 34/600\n",
      "14/14 [==============================] - 0s 6ms/step - loss: 0.2527 - val_loss: 0.1422\n",
      "Epoch 35/600\n",
      "14/14 [==============================] - 0s 6ms/step - loss: 0.2222 - val_loss: 0.1409\n",
      "Epoch 36/600\n",
      "14/14 [==============================] - 0s 6ms/step - loss: 0.2281 - val_loss: 0.1375\n",
      "Epoch 37/600\n",
      "14/14 [==============================] - 0s 6ms/step - loss: 0.2136 - val_loss: 0.1360\n",
      "Epoch 38/600\n",
      "14/14 [==============================] - 0s 7ms/step - loss: 0.2283 - val_loss: 0.1236\n",
      "Epoch 39/600\n",
      "14/14 [==============================] - 0s 6ms/step - loss: 0.2307 - val_loss: 0.1269\n",
      "Epoch 40/600\n",
      "14/14 [==============================] - 0s 6ms/step - loss: 0.2063 - val_loss: 0.1291\n",
      "Epoch 41/600\n",
      "14/14 [==============================] - 0s 6ms/step - loss: 0.2265 - val_loss: 0.1201\n",
      "Epoch 42/600\n",
      "14/14 [==============================] - 0s 6ms/step - loss: 0.2353 - val_loss: 0.1255\n",
      "Epoch 43/600\n",
      "14/14 [==============================] - 0s 6ms/step - loss: 0.1896 - val_loss: 0.1239\n",
      "Epoch 44/600\n",
      "14/14 [==============================] - 0s 7ms/step - loss: 0.1953 - val_loss: 0.1163\n",
      "Epoch 45/600\n",
      "14/14 [==============================] - 0s 7ms/step - loss: 0.2065 - val_loss: 0.1185\n",
      "Epoch 46/600\n",
      "14/14 [==============================] - 0s 7ms/step - loss: 0.1844 - val_loss: 0.1248\n",
      "Epoch 47/600\n",
      "14/14 [==============================] - 0s 9ms/step - loss: 0.1758 - val_loss: 0.1122\n",
      "Epoch 48/600\n",
      "14/14 [==============================] - 0s 7ms/step - loss: 0.1792 - val_loss: 0.1062\n",
      "Epoch 49/600\n",
      "14/14 [==============================] - 0s 8ms/step - loss: 0.1700 - val_loss: 0.1143\n",
      "Epoch 50/600\n",
      "14/14 [==============================] - 0s 7ms/step - loss: 0.1744 - val_loss: 0.1119\n",
      "Epoch 51/600\n",
      "14/14 [==============================] - 0s 7ms/step - loss: 0.1784 - val_loss: 0.1056\n",
      "Epoch 52/600\n",
      "14/14 [==============================] - 0s 7ms/step - loss: 0.1652 - val_loss: 0.1020\n",
      "Epoch 53/600\n",
      "14/14 [==============================] - 0s 7ms/step - loss: 0.1908 - val_loss: 0.1115\n",
      "Epoch 54/600\n",
      "14/14 [==============================] - 0s 7ms/step - loss: 0.1829 - val_loss: 0.1080\n",
      "Epoch 55/600\n",
      "14/14 [==============================] - 0s 7ms/step - loss: 0.1646 - val_loss: 0.1078\n",
      "Epoch 56/600\n",
      "14/14 [==============================] - 0s 7ms/step - loss: 0.1877 - val_loss: 0.1019\n",
      "Epoch 57/600\n",
      "14/14 [==============================] - 0s 6ms/step - loss: 0.1809 - val_loss: 0.1024\n",
      "Epoch 58/600\n",
      "14/14 [==============================] - 0s 7ms/step - loss: 0.1511 - val_loss: 0.1104\n",
      "Epoch 59/600\n",
      "14/14 [==============================] - 0s 7ms/step - loss: 0.1687 - val_loss: 0.0997\n",
      "Epoch 60/600\n",
      "14/14 [==============================] - 0s 8ms/step - loss: 0.1650 - val_loss: 0.0964\n",
      "Epoch 61/600\n",
      "14/14 [==============================] - 0s 7ms/step - loss: 0.1374 - val_loss: 0.0995\n",
      "Epoch 62/600\n",
      "14/14 [==============================] - 0s 7ms/step - loss: 0.1478 - val_loss: 0.0957\n",
      "Epoch 63/600\n",
      "14/14 [==============================] - 0s 7ms/step - loss: 0.1411 - val_loss: 0.0989\n",
      "Epoch 64/600\n",
      "14/14 [==============================] - 0s 7ms/step - loss: 0.1489 - val_loss: 0.1067\n",
      "Epoch 65/600\n",
      "14/14 [==============================] - 0s 7ms/step - loss: 0.1394 - val_loss: 0.0974\n",
      "Epoch 66/600\n",
      "14/14 [==============================] - 0s 7ms/step - loss: 0.1492 - val_loss: 0.0959\n",
      "Epoch 67/600\n",
      "14/14 [==============================] - 0s 7ms/step - loss: 0.1656 - val_loss: 0.0893\n",
      "Epoch 68/600\n",
      "14/14 [==============================] - 0s 6ms/step - loss: 0.1545 - val_loss: 0.0975\n",
      "Epoch 69/600\n",
      "14/14 [==============================] - 0s 7ms/step - loss: 0.1519 - val_loss: 0.0951\n",
      "Epoch 70/600\n",
      "14/14 [==============================] - 0s 6ms/step - loss: 0.1296 - val_loss: 0.0900\n",
      "Epoch 71/600\n",
      "14/14 [==============================] - 0s 7ms/step - loss: 0.1402 - val_loss: 0.0891\n",
      "Epoch 72/600\n",
      "14/14 [==============================] - 0s 7ms/step - loss: 0.1493 - val_loss: 0.0861\n",
      "Epoch 73/600\n",
      "14/14 [==============================] - 0s 7ms/step - loss: 0.1490 - val_loss: 0.0907\n",
      "Epoch 74/600\n",
      "14/14 [==============================] - 0s 7ms/step - loss: 0.1259 - val_loss: 0.1039\n",
      "Epoch 75/600\n",
      "14/14 [==============================] - 0s 7ms/step - loss: 0.1438 - val_loss: 0.0923\n",
      "Epoch 76/600\n",
      "14/14 [==============================] - 0s 7ms/step - loss: 0.1246 - val_loss: 0.0897\n",
      "Epoch 77/600\n",
      "14/14 [==============================] - 0s 6ms/step - loss: 0.1112 - val_loss: 0.0896\n",
      "Epoch 78/600\n",
      "14/14 [==============================] - 0s 7ms/step - loss: 0.1479 - val_loss: 0.0855\n",
      "Epoch 79/600\n",
      "14/14 [==============================] - 0s 6ms/step - loss: 0.1238 - val_loss: 0.0855\n",
      "Epoch 80/600\n",
      "14/14 [==============================] - 0s 6ms/step - loss: 0.1440 - val_loss: 0.0854\n",
      "Epoch 81/600\n",
      "14/14 [==============================] - 0s 7ms/step - loss: 0.1235 - val_loss: 0.0863\n",
      "Epoch 82/600\n",
      "14/14 [==============================] - 0s 7ms/step - loss: 0.1427 - val_loss: 0.0850\n",
      "Epoch 83/600\n"
     ]
    },
    {
     "name": "stdout",
     "output_type": "stream",
     "text": [
      "14/14 [==============================] - 0s 7ms/step - loss: 0.1289 - val_loss: 0.0850\n",
      "Epoch 84/600\n",
      "14/14 [==============================] - 0s 6ms/step - loss: 0.1408 - val_loss: 0.0921\n",
      "Epoch 85/600\n",
      "14/14 [==============================] - 0s 7ms/step - loss: 0.1257 - val_loss: 0.0827\n",
      "Epoch 86/600\n",
      "14/14 [==============================] - 0s 6ms/step - loss: 0.1360 - val_loss: 0.0803\n",
      "Epoch 87/600\n",
      "14/14 [==============================] - 0s 6ms/step - loss: 0.1261 - val_loss: 0.0829\n",
      "Epoch 88/600\n",
      "14/14 [==============================] - 0s 7ms/step - loss: 0.1271 - val_loss: 0.0830\n",
      "Epoch 89/600\n",
      "14/14 [==============================] - 0s 7ms/step - loss: 0.0954 - val_loss: 0.0867\n",
      "Epoch 90/600\n",
      "14/14 [==============================] - 0s 7ms/step - loss: 0.1142 - val_loss: 0.0864\n",
      "Epoch 91/600\n",
      "14/14 [==============================] - 0s 7ms/step - loss: 0.1294 - val_loss: 0.0849\n",
      "Epoch 92/600\n",
      "14/14 [==============================] - 0s 7ms/step - loss: 0.1145 - val_loss: 0.0955\n",
      "Epoch 93/600\n",
      "14/14 [==============================] - 0s 7ms/step - loss: 0.1177 - val_loss: 0.0867\n",
      "Epoch 94/600\n",
      "14/14 [==============================] - 0s 7ms/step - loss: 0.0913 - val_loss: 0.0835\n",
      "Epoch 95/600\n",
      "14/14 [==============================] - 0s 7ms/step - loss: 0.1058 - val_loss: 0.0946\n",
      "Epoch 96/600\n",
      "14/14 [==============================] - 0s 7ms/step - loss: 0.1217 - val_loss: 0.0876\n",
      "Epoch 97/600\n",
      "14/14 [==============================] - 0s 7ms/step - loss: 0.1251 - val_loss: 0.0880\n",
      "Epoch 98/600\n",
      "14/14 [==============================] - 0s 8ms/step - loss: 0.1190 - val_loss: 0.0818\n",
      "Epoch 99/600\n",
      "14/14 [==============================] - 0s 7ms/step - loss: 0.1038 - val_loss: 0.0850\n",
      "Epoch 100/600\n",
      "14/14 [==============================] - 0s 7ms/step - loss: 0.1068 - val_loss: 0.1002\n",
      "Epoch 101/600\n",
      "14/14 [==============================] - 0s 6ms/step - loss: 0.1116 - val_loss: 0.0891\n",
      "Epoch 102/600\n",
      "14/14 [==============================] - 0s 6ms/step - loss: 0.1143 - val_loss: 0.0871\n",
      "Epoch 103/600\n",
      "14/14 [==============================] - 0s 6ms/step - loss: 0.1037 - val_loss: 0.0928\n",
      "Epoch 104/600\n",
      "14/14 [==============================] - 0s 7ms/step - loss: 0.1095 - val_loss: 0.0944\n",
      "Epoch 105/600\n",
      "14/14 [==============================] - 0s 6ms/step - loss: 0.1141 - val_loss: 0.0953\n",
      "Epoch 106/600\n",
      "14/14 [==============================] - 0s 6ms/step - loss: 0.1032 - val_loss: 0.0830\n",
      "Epoch 107/600\n",
      "14/14 [==============================] - 0s 7ms/step - loss: 0.0948 - val_loss: 0.0884\n",
      "Epoch 108/600\n",
      "14/14 [==============================] - 0s 7ms/step - loss: 0.1047 - val_loss: 0.0835\n",
      "Epoch 109/600\n",
      "14/14 [==============================] - 0s 7ms/step - loss: 0.1143 - val_loss: 0.0868\n",
      "Epoch 110/600\n",
      "14/14 [==============================] - 0s 7ms/step - loss: 0.1092 - val_loss: 0.0992\n",
      "Epoch 111/600\n",
      "14/14 [==============================] - 0s 6ms/step - loss: 0.0921 - val_loss: 0.0894\n",
      "Epoch 111: early stopping\n"
     ]
    },
    {
     "data": {
      "text/plain": [
       "<keras.callbacks.History at 0x221927e6bb0>"
      ]
     },
     "execution_count": 18,
     "metadata": {},
     "output_type": "execute_result"
    }
   ],
   "source": [
    "model.fit(x=X_train, \n",
    "          y=y_train, \n",
    "          epochs=600,\n",
    "          validation_data=(X_test, y_test), verbose=1,\n",
    "          callbacks=[early_stop,board]\n",
    "          )"
   ]
  },
  {
   "cell_type": "code",
   "execution_count": 19,
   "id": "b09cf6a8",
   "metadata": {},
   "outputs": [
    {
     "name": "stdout",
     "output_type": "stream",
     "text": [
      "logs\\fit\n"
     ]
    }
   ],
   "source": [
    "print(log_directory)"
   ]
  },
  {
   "cell_type": "code",
   "execution_count": null,
   "id": "9dd38663",
   "metadata": {},
   "outputs": [],
   "source": []
  }
 ],
 "metadata": {
  "kernelspec": {
   "display_name": "Python 3 (ipykernel)",
   "language": "python",
   "name": "python3"
  },
  "language_info": {
   "codemirror_mode": {
    "name": "ipython",
    "version": 3
   },
   "file_extension": ".py",
   "mimetype": "text/x-python",
   "name": "python",
   "nbconvert_exporter": "python",
   "pygments_lexer": "ipython3",
   "version": "3.9.12"
  }
 },
 "nbformat": 4,
 "nbformat_minor": 5
}
