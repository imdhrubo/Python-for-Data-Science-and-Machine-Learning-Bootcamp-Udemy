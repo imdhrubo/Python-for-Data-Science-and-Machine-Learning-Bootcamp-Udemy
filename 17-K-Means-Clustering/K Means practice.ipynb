{
 "cells": [
  {
   "cell_type": "code",
   "execution_count": 1,
   "id": "2c4388d1",
   "metadata": {},
   "outputs": [],
   "source": [
    "import seaborn as sns\n",
    "import matplotlib.pyplot as plt\n",
    "%matplotlib inline"
   ]
  },
  {
   "cell_type": "code",
   "execution_count": 2,
   "id": "2211b395",
   "metadata": {},
   "outputs": [],
   "source": [
    "from sklearn.datasets import make_blobs"
   ]
  },
  {
   "cell_type": "code",
   "execution_count": 21,
   "id": "8f905912",
   "metadata": {},
   "outputs": [],
   "source": [
    "data = make_blobs(n_samples=200, centers=4, n_features=2, random_state=101)"
   ]
  },
  {
   "cell_type": "code",
   "execution_count": 22,
   "id": "7497a187",
   "metadata": {},
   "outputs": [
    {
     "data": {
      "text/plain": [
       "(array([[ -5.28743413,   9.13273703],\n",
       "        [  4.90728366,   5.85747409],\n",
       "        [ -0.06318407,   2.4416449 ],\n",
       "        [  2.85067973,   8.28075279],\n",
       "        [  4.47750967,   6.97215388],\n",
       "        [-10.23516698,  -6.31601883],\n",
       "        [  2.77693736,   8.39388742],\n",
       "        [ -0.80867204,   1.41371822],\n",
       "        [  2.29641395,   7.54884427],\n",
       "        [ -0.60526466,   2.36840825],\n",
       "        [ -5.15223479,   8.87326379],\n",
       "        [ -0.52010443,   2.01931709],\n",
       "        [  3.25966685,   7.36381102],\n",
       "        [  2.9760733 ,   5.9578275 ],\n",
       "        [ -4.6466622 ,   8.85343104],\n",
       "        [ -0.16913147,   0.65928204],\n",
       "        [  4.96544332,   6.2300389 ],\n",
       "        [ -1.13954147,   0.91925638],\n",
       "        [ -9.82160444,  -4.82608993],\n",
       "        [ -4.2385371 ,   9.82768148],\n",
       "        [ -9.97777536,  -6.07283992],\n",
       "        [  0.51509708,   0.68050659],\n",
       "        [  1.32054601,   2.60559237],\n",
       "        [-10.40190804,  -8.09189975],\n",
       "        [ -5.40306833,   7.05115202],\n",
       "        [ -8.45479579,  -6.95780558],\n",
       "        [ -8.6283861 ,  -8.23710366],\n",
       "        [  0.85678605,   0.8243512 ],\n",
       "        [  3.61624119,   7.37650366],\n",
       "        [  3.89101862,   5.68391896],\n",
       "        [ -3.31651637,   8.57055733],\n",
       "        [ -9.25250638,  -7.19637228],\n",
       "        [  4.56913524,   5.60134675],\n",
       "        [  1.28943071,  -0.72786055],\n",
       "        [ -0.80584461,   2.02382964],\n",
       "        [ -4.71897982,   7.65005135],\n",
       "        [-10.41329147,  -4.33801163],\n",
       "        [-10.51098693,  -5.66716912],\n",
       "        [-10.73699778,  -8.20249087],\n",
       "        [  2.61810374,   4.11017033],\n",
       "        [ -9.19351984,  -6.36878641],\n",
       "        [ -3.30788129,   7.68175045],\n",
       "        [ -2.50886856,   8.12944447],\n",
       "        [ -3.44326378,   9.14553095],\n",
       "        [  0.29639341,   2.06317757],\n",
       "        [ -1.25943551,   7.25970963],\n",
       "        [ -4.00194183,   7.9577904 ],\n",
       "        [  1.00918185,   2.44847681],\n",
       "        [-10.66612973,  -7.36799484],\n",
       "        [  0.96907519,   5.6927844 ],\n",
       "        [  1.93475242,   0.29764177],\n",
       "        [ -4.71837189,   7.49876641],\n",
       "        [  4.99576956,   5.19961789],\n",
       "        [  0.3694325 ,   1.00229633],\n",
       "        [ -8.29681248,  -6.04138014],\n",
       "        [ -2.60773197,   6.82391426],\n",
       "        [  0.630638  ,   3.10707466],\n",
       "        [  0.72046137,   1.63484242],\n",
       "        [ -3.87665037,   6.439131  ],\n",
       "        [  3.40710389,   6.70707873],\n",
       "        [ -8.67639404,  -7.34160752],\n",
       "        [  2.15586853,   7.11319017],\n",
       "        [ -8.30049742,  -5.67177056],\n",
       "        [ -2.66937083,   8.21289571],\n",
       "        [  3.15466363,   7.61998223],\n",
       "        [ -1.057406  ,   0.08369168],\n",
       "        [-10.82880515,  -6.78887759],\n",
       "        [  4.36656883,   6.34501645],\n",
       "        [  3.23678335,   7.53803429],\n",
       "        [ -9.27685464,  -6.40192863],\n",
       "        [  2.7773348 ,   7.52484115],\n",
       "        [  0.56609951,   3.41000402],\n",
       "        [ -9.10267073,  -5.89508169],\n",
       "        [ -3.3972481 ,   5.66581955],\n",
       "        [ -9.12488396,  -6.32638926],\n",
       "        [  4.53989416,   6.53750542],\n",
       "        [  3.42028287,   8.7684764 ],\n",
       "        [  0.16543782,   1.89916047],\n",
       "        [ -5.57563821,   9.22230739],\n",
       "        [ -1.69019569,   2.15347379],\n",
       "        [ -0.24060881,   2.82068999],\n",
       "        [ -8.82165818,  -6.28309389],\n",
       "        [  4.70959578,   7.70985311],\n",
       "        [ -7.67850105,  -5.87402015],\n",
       "        [  0.51666786,   0.65447968],\n",
       "        [ -0.42735279,   1.06693323],\n",
       "        [ -0.67721436,   0.67156203],\n",
       "        [ -4.69183736,   7.37832028],\n",
       "        [  2.67596248,   5.15308172],\n",
       "        [ -9.962986  ,  -4.45183949],\n",
       "        [ -8.84366818,  -8.1909147 ],\n",
       "        [ -8.75298036,  -6.5434614 ],\n",
       "        [ -9.63630777,  -4.07557669],\n",
       "        [ -2.06168573,   6.55940793],\n",
       "        [  0.29681207,   3.35328405],\n",
       "        [ -9.03705471,  -7.20007351],\n",
       "        [  4.62606481,   8.02707478],\n",
       "        [ -3.91187847,   7.43313357],\n",
       "        [ -8.78136772,  -6.21062635],\n",
       "        [  5.87096075,   5.41069708],\n",
       "        [ -0.71880698,   2.70611631],\n",
       "        [-10.20184408,  -6.45908946],\n",
       "        [  0.88674196,   2.43816202],\n",
       "        [ -1.64463255,   0.5464667 ],\n",
       "        [  1.65297671,   6.51129114],\n",
       "        [ -0.52722349,   2.95534215],\n",
       "        [ -9.46494711,  -5.88115845],\n",
       "        [  6.4905493 ,   8.20168771],\n",
       "        [ -9.34899211,  -6.98475799],\n",
       "        [ -9.47619195,  -6.55714589],\n",
       "        [  2.93393983,   2.09686062],\n",
       "        [ -3.21554323,   7.57462451],\n",
       "        [ -4.05637829,   7.22014213],\n",
       "        [  2.93960956,   7.64023642],\n",
       "        [ -9.37685401,  -8.68467997],\n",
       "        [  3.91977383,   6.4374273 ],\n",
       "        [ -3.62906644,   8.02767349],\n",
       "        [ -5.36171684,   8.93061852],\n",
       "        [  2.31402057,   6.82542372],\n",
       "        [ -2.3509286 ,   8.0469448 ],\n",
       "        [  0.71400287,   3.49737027],\n",
       "        [ -4.16914732,   7.0301951 ],\n",
       "        [ -0.66529095,   1.61015124],\n",
       "        [ -5.05537494,   7.7270303 ],\n",
       "        [ -0.04854612,   1.64368808],\n",
       "        [  4.60836549,   6.1400281 ],\n",
       "        [ -5.1419959 ,   9.14899304],\n",
       "        [ -1.37811338,   0.25423232],\n",
       "        [ -9.68241242,  -7.14768713],\n",
       "        [ -2.99703009,   7.14552094],\n",
       "        [ -4.0425793 ,   7.26902613],\n",
       "        [ -3.73458987,   8.33830574],\n",
       "        [  0.49487719,   1.5978536 ],\n",
       "        [ -9.09964985,  -7.63261577],\n",
       "        [-12.16751007,  -5.04700476],\n",
       "        [ -3.99648812,   7.16159459],\n",
       "        [  3.5736335 ,   5.34284552],\n",
       "        [ -3.8471562 ,   5.71577394],\n",
       "        [  3.79623838,   7.9996526 ],\n",
       "        [  0.99429187,   0.87511711],\n",
       "        [ -9.8137736 ,  -6.97888536],\n",
       "        [  4.59457052,   4.83867639],\n",
       "        [ -9.60457201,  -5.78942716],\n",
       "        [ -2.00570844,   8.37451193],\n",
       "        [ -2.45348676,   7.9332324 ],\n",
       "        [  2.90269646,   6.42445787],\n",
       "        [ -0.5979017 ,   3.27621588],\n",
       "        [ -8.70149174,  -7.43265814],\n",
       "        [ -3.82708523,   7.65205366],\n",
       "        [ -4.67758185,   7.9945482 ],\n",
       "        [ -3.10493341,   9.63038334],\n",
       "        [ -2.92055534,   8.61848281],\n",
       "        [  0.19313183,   1.80387958],\n",
       "        [  3.55026388,   5.66470924],\n",
       "        [  1.04876015,   0.1902697 ],\n",
       "        [ -6.41333586,   7.84033462],\n",
       "        [  2.73019028,   5.62308666],\n",
       "        [  3.12515665,   7.88696454],\n",
       "        [  3.48565809,   6.97073238],\n",
       "        [  0.96977807,   0.50825184],\n",
       "        [  3.97174641,   7.09051741],\n",
       "        [  1.13567847,   1.48631141],\n",
       "        [ -1.05494754,   2.89584723],\n",
       "        [ -5.45984626,   5.80342524],\n",
       "        [-11.10879913,  -6.23559377],\n",
       "        [ -5.09473312,   6.92673864],\n",
       "        [ -0.61543385,   1.89810338],\n",
       "        [  4.71286377,   7.00772091],\n",
       "        [ -3.40133254,   8.45777428],\n",
       "        [  2.482819  ,   0.80309288],\n",
       "        [  3.93562668,   7.29659525],\n",
       "        [  0.96675957,   1.74299804],\n",
       "        [ -4.35559308,   7.94403157],\n",
       "        [ -1.77555971,   7.58043993],\n",
       "        [  0.21119924,   3.31510653],\n",
       "        [ -5.74448433,   6.55811942],\n",
       "        [  3.8246846 ,   7.34365184],\n",
       "        [  2.28459016,   6.99959684],\n",
       "        [ -7.40097129,  -7.61592526],\n",
       "        [  2.62442136,   6.67758229],\n",
       "        [ -3.55362973,   8.40218852],\n",
       "        [ -8.56635059,  -8.13049832],\n",
       "        [ -8.64719942,  -7.27852061],\n",
       "        [ -2.19166472,   9.3524093 ],\n",
       "        [ -9.26873428,  -5.73653755],\n",
       "        [ -9.81061897,  -8.23562605],\n",
       "        [ -9.23299148,  -4.26657961],\n",
       "        [ -9.55589627,  -7.515155  ],\n",
       "        [-10.52820849,  -8.4775757 ],\n",
       "        [  0.47499933,   0.9339037 ],\n",
       "        [ -9.71002568,  -5.50685646],\n",
       "        [  4.69431248,   7.19176998],\n",
       "        [  4.11312608,   7.48578   ],\n",
       "        [ -3.74609473,   7.5037741 ],\n",
       "        [ -9.08697628,  -6.37329156],\n",
       "        [  0.51876688,   3.39210906],\n",
       "        [  5.29135203,   7.60759509],\n",
       "        [  4.49966814,   8.03764923],\n",
       "        [ -9.33688749,  -5.32875426],\n",
       "        [  1.35395671,   1.25675383]]),\n",
       " array([3, 2, 0, 2, 2, 1, 2, 0, 2, 0, 3, 0, 2, 2, 3, 0, 2, 0, 1, 3, 1, 0,\n",
       "        0, 1, 3, 1, 1, 0, 2, 2, 3, 1, 2, 0, 0, 3, 1, 1, 1, 2, 1, 3, 3, 3,\n",
       "        0, 3, 3, 0, 1, 2, 0, 3, 2, 0, 1, 3, 0, 0, 3, 2, 1, 2, 1, 3, 2, 0,\n",
       "        1, 2, 2, 1, 2, 0, 1, 3, 1, 2, 2, 0, 3, 0, 0, 1, 2, 1, 0, 0, 0, 3,\n",
       "        2, 1, 1, 1, 1, 3, 0, 1, 2, 3, 1, 2, 0, 1, 0, 0, 2, 0, 1, 2, 1, 1,\n",
       "        0, 3, 3, 2, 1, 2, 3, 3, 2, 3, 0, 3, 0, 3, 0, 2, 3, 0, 1, 3, 3, 3,\n",
       "        0, 1, 1, 3, 2, 3, 2, 0, 1, 2, 1, 3, 3, 2, 0, 1, 3, 3, 3, 3, 0, 2,\n",
       "        0, 3, 2, 2, 2, 0, 2, 0, 0, 3, 1, 3, 0, 2, 3, 0, 2, 0, 3, 3, 0, 3,\n",
       "        2, 2, 1, 2, 3, 1, 1, 3, 1, 1, 1, 1, 1, 0, 1, 2, 2, 3, 1, 0, 2, 2,\n",
       "        1, 0]))"
      ]
     },
     "execution_count": 22,
     "metadata": {},
     "output_type": "execute_result"
    }
   ],
   "source": [
    "data"
   ]
  },
  {
   "cell_type": "code",
   "execution_count": 23,
   "id": "d655115d",
   "metadata": {},
   "outputs": [
    {
     "data": {
      "text/plain": [
       "<matplotlib.collections.PathCollection at 0x19fbfba1af0>"
      ]
     },
     "execution_count": 23,
     "metadata": {},
     "output_type": "execute_result"
    },
    {
     "data": {
      "image/png": "[encoded data removed]",
      "text/plain": [
       "<Figure size 432x288 with 1 Axes>"
      ]
     },
     "metadata": {
      "needs_background": "light"
     },
     "output_type": "display_data"
    }
   ],
   "source": [
    "plt.scatter(data[0][:,0],data[0][:,1],c=data[1],cmap='rainbow')"
   ]
  },
  {
   "cell_type": "code",
   "execution_count": 24,
   "id": "b26b950f",
   "metadata": {},
   "outputs": [
    {
     "data": {
      "text/plain": [
       "array([3, 2, 0, 2, 2, 1, 2, 0, 2, 0, 3, 0, 2, 2, 3, 0, 2, 0, 1, 3, 1, 0,\n",
       "       0, 1, 3, 1, 1, 0, 2, 2, 3, 1, 2, 0, 0, 3, 1, 1, 1, 2, 1, 3, 3, 3,\n",
       "       0, 3, 3, 0, 1, 2, 0, 3, 2, 0, 1, 3, 0, 0, 3, 2, 1, 2, 1, 3, 2, 0,\n",
       "       1, 2, 2, 1, 2, 0, 1, 3, 1, 2, 2, 0, 3, 0, 0, 1, 2, 1, 0, 0, 0, 3,\n",
       "       2, 1, 1, 1, 1, 3, 0, 1, 2, 3, 1, 2, 0, 1, 0, 0, 2, 0, 1, 2, 1, 1,\n",
       "       0, 3, 3, 2, 1, 2, 3, 3, 2, 3, 0, 3, 0, 3, 0, 2, 3, 0, 1, 3, 3, 3,\n",
       "       0, 1, 1, 3, 2, 3, 2, 0, 1, 2, 1, 3, 3, 2, 0, 1, 3, 3, 3, 3, 0, 2,\n",
       "       0, 3, 2, 2, 2, 0, 2, 0, 0, 3, 1, 3, 0, 2, 3, 0, 2, 0, 3, 3, 0, 3,\n",
       "       2, 2, 1, 2, 3, 1, 1, 3, 1, 1, 1, 1, 1, 0, 1, 2, 2, 3, 1, 0, 2, 2,\n",
       "       1, 0])"
      ]
     },
     "execution_count": 24,
     "metadata": {},
     "output_type": "execute_result"
    }
   ],
   "source": [
    "data[1]"
   ]
  },
  {
   "cell_type": "code",
   "execution_count": 25,
   "id": "f42d944e",
   "metadata": {},
   "outputs": [],
   "source": [
    "from sklearn.cluster import KMeans"
   ]
  },
  {
   "cell_type": "code",
   "execution_count": 26,
   "id": "0acf335e",
   "metadata": {},
   "outputs": [],
   "source": [
    "kmeans = KMeans(n_clusters=4)"
   ]
  },
  {
   "cell_type": "code",
   "execution_count": 27,
   "id": "5c0c4f63",
   "metadata": {},
   "outputs": [
    {
     "data": {
      "text/plain": [
       "KMeans(n_clusters=4)"
      ]
     },
     "execution_count": 27,
     "metadata": {},
     "output_type": "execute_result"
    }
   ],
   "source": [
    "kmeans.fit(data[0])"
   ]
  },
  {
   "cell_type": "code",
   "execution_count": 28,
   "id": "5d908f4d",
   "metadata": {},
   "outputs": [
    {
     "data": {
      "text/plain": [
       "array([[ 3.6749306 ,  6.79939284],\n",
       "       [-9.45212819, -6.56470497],\n",
       "       [-3.86237714,  7.82551374],\n",
       "       [ 0.20824045,  1.71238076]])"
      ]
     },
     "execution_count": 28,
     "metadata": {},
     "output_type": "execute_result"
    }
   ],
   "source": [
    "kmeans.cluster_centers_"
   ]
  },
  {
   "cell_type": "code",
   "execution_count": 29,
   "id": "e3a7ea8f",
   "metadata": {},
   "outputs": [
    {
     "data": {
      "text/plain": [
       "200"
      ]
     },
     "execution_count": 29,
     "metadata": {},
     "output_type": "execute_result"
    }
   ],
   "source": [
    "len(kmeans.labels_)"
   ]
  },
  {
   "cell_type": "code",
   "execution_count": 30,
   "id": "39d784cd",
   "metadata": {},
   "outputs": [
    {
     "data": {
      "text/plain": [
       "array([2, 0, 3, 0, 0, 1, 0, 3, 0, 3, 2, 3, 0, 0, 2, 3, 0, 3, 1, 2, 1, 3,\n",
       "       3, 1, 2, 1, 1, 3, 0, 0, 2, 1, 0, 3, 3, 2, 1, 1, 1, 0, 1, 2, 2, 2,\n",
       "       3, 2, 2, 3, 1, 0, 3, 2, 0, 3, 1, 2, 3, 3, 2, 0, 1, 0, 1, 2, 0, 3,\n",
       "       1, 0, 0, 1, 0, 3, 1, 2, 1, 0, 0, 3, 2, 3, 3, 1, 0, 1, 3, 3, 3, 2,\n",
       "       0, 1, 1, 1, 1, 2, 3, 1, 0, 2, 1, 0, 3, 1, 3, 3, 0, 3, 1, 0, 1, 1,\n",
       "       3, 2, 2, 0, 1, 0, 2, 2, 0, 2, 3, 2, 3, 2, 3, 0, 2, 3, 1, 2, 2, 2,\n",
       "       3, 1, 1, 2, 0, 2, 0, 3, 1, 0, 1, 2, 2, 0, 3, 1, 2, 2, 2, 2, 3, 0,\n",
       "       3, 2, 0, 0, 0, 3, 0, 3, 3, 2, 1, 2, 3, 0, 2, 3, 0, 3, 2, 2, 3, 2,\n",
       "       0, 0, 1, 0, 2, 1, 1, 2, 1, 1, 1, 1, 1, 3, 1, 0, 0, 2, 1, 3, 0, 0,\n",
       "       1, 3])"
      ]
     },
     "execution_count": 30,
     "metadata": {},
     "output_type": "execute_result"
    }
   ],
   "source": [
    "kmeans.labels_"
   ]
  },
  {
   "cell_type": "code",
   "execution_count": 31,
   "id": "ffe4f6cf",
   "metadata": {},
   "outputs": [
    {
     "data": {
      "text/plain": [
       "<matplotlib.collections.PathCollection at 0x19fbfb216a0>"
      ]
     },
     "execution_count": 31,
     "metadata": {},
     "output_type": "execute_result"
    },
    {
     "data": {
      "image/png": "[encoded data removed]",
      "text/plain": [
       "<Figure size 720x432 with 2 Axes>"
      ]
     },
     "metadata": {
      "needs_background": "light"
     },
     "output_type": "display_data"
    }
   ],
   "source": [
    "f, (ax1, ax2) = plt.subplots(1, 2, sharey=True,figsize=(10,6))\n",
    "ax1.set_title('K Means')\n",
    "ax1.scatter(data[0][:,0],data[0][:,1],c=kmeans.labels_,cmap='rainbow')\n",
    "ax2.set_title(\"Original\")\n",
    "ax2.scatter(data[0][:,0],data[0][:,1],c=data[1],cmap='rainbow')"
   ]
  },
  {
   "cell_type": "code",
   "execution_count": null,
   "id": "62d6ebf5",
   "metadata": {},
   "outputs": [],
   "source": []
  }
 ],
 "metadata": {
  "kernelspec": {
   "display_name": "Python 3 (ipykernel)",
   "language": "python",
   "name": "python3"
  },
  "language_info": {
   "codemirror_mode": {
    "name": "ipython",
    "version": 3
   },
   "file_extension": ".py",
   "mimetype": "text/x-python",
   "name": "python",
   "nbconvert_exporter": "python",
   "pygments_lexer": "ipython3",
   "version": "3.9.12"
  }
 },
 "nbformat": 4,
 "nbformat_minor": 5
}
